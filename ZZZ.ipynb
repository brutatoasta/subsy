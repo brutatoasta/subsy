{
  "cells": [
    {
      "cell_type": "markdown",
      "metadata": {},
      "source": [
        "# Download video\n",
        "Download audio stream of the [video](https://youtu.be/UTOQdej0Mus?si=aOmOqedANCravVA2)"
      ]
    },
    {
      "cell_type": "code",
      "execution_count": 1,
      "metadata": {},
      "outputs": [
        {
          "name": "stdout",
          "output_type": "stream",
          "text": [
            "<Stream: itag=\"139\" mime_type=\"audio/mp4\" abr=\"48kbps\" acodec=\"mp4a.40.5\" progressive=\"False\" type=\"audio\">\n",
            "<Stream: itag=\"140\" mime_type=\"audio/mp4\" abr=\"128kbps\" acodec=\"mp4a.40.2\" progressive=\"False\" type=\"audio\">\n",
            "<Stream: itag=\"249\" mime_type=\"audio/webm\" abr=\"50kbps\" acodec=\"opus\" progressive=\"False\" type=\"audio\">\n",
            "<Stream: itag=\"250\" mime_type=\"audio/webm\" abr=\"70kbps\" acodec=\"opus\" progressive=\"False\" type=\"audio\">\n",
            "<Stream: itag=\"251\" mime_type=\"audio/webm\" abr=\"160kbps\" acodec=\"opus\" progressive=\"False\" type=\"audio\">\n"
          ]
        }
      ],
      "source": [
        "from pytube import YouTube\n",
        "# chinese video\n",
        "link = \"https://youtu.be/UTOQdej0Mus?si=aOmOqedANCravVA2\"\n",
        "\n",
        "yt = YouTube(link)\n",
        "for i in yt.streams.filter(only_audio=True):\n",
        "    print(i)\n"
      ]
    },
    {
      "cell_type": "code",
      "execution_count": null,
      "metadata": {},
      "outputs": [],
      "source": [
        "stream = yt.streams.get_by_itag(139)\n",
        "filename = stream.download(\"./downloads/\", filename=\"sermon.mp4\")"
      ]
    },
    {
      "cell_type": "markdown",
      "metadata": {},
      "source": [
        "## Speech Detection\n",
        "We use Google's Speech to Text API using a generic key and \"zh-sg\" language"
      ]
    },
    {
      "cell_type": "code",
      "execution_count": 1,
      "metadata": {},
      "outputs": [
        {
          "name": "stderr",
          "output_type": "stream",
          "text": [
            "/home/joshu/Documents/Github/subsy/v/lib/python3.10/site-packages/pydub/utils.py:170: RuntimeWarning: Couldn't find ffmpeg or avconv - defaulting to ffmpeg, but may not work\n",
            "  warn(\"Couldn't find ffmpeg or avconv - defaulting to ffmpeg, but may not work\", RuntimeWarning)\n"
          ]
        }
      ],
      "source": [
        "# importing libraries \n",
        "import speech_recognition as sr \n",
        "import os \n",
        "from pydub import AudioSegment\n",
        "from pydub.silence import split_on_silence\n",
        "\n",
        "# create a speech recognition object\n",
        "r = sr.Recognizer()\n",
        "\n",
        "# a function to recognize speech in the audio file\n",
        "# so that we don't repeat ourselves in in other functions\n",
        "def transcribe_audio(path):\n",
        "    # use the audio file as the audio source\n",
        "    with sr.AudioFile(path) as source:\n",
        "        audio_listened = r.record(source)\n",
        "        # try converting it to text\n",
        "        text = r.recognize_google(audio_listened, language=\"zh-sg\")\n",
        "    return text\n",
        "\n",
        "# a function that splits the audio file into chunks on silence\n",
        "# and applies speech recognition\n",
        "def get_large_audio_transcription_on_silence(path):\n",
        "    \"\"\"Splitting the large audio file into wav chunks\n",
        "    and apply speech recognition on each of these chunks\"\"\"\n",
        "    # open the audio file using pydub\n",
        "    sound = AudioSegment.from_file(path)  \n",
        "    # split audio sound where silence is 500 miliseconds or more and get chunks\n",
        "    chunks = split_on_silence(sound,\n",
        "        # experiment with this value for your target audio file\n",
        "        min_silence_len = 500,\n",
        "        # adjust this per requirement\n",
        "        silence_thresh = sound.dBFS-14,\n",
        "        # keep the silence for 1 second, adjustable as well\n",
        "        keep_silence=500,\n",
        "    )\n",
        "    folder_name = \"audio-chunks\"\n",
        "    # create a directory to store the audio chunks\n",
        "    if not os.path.isdir(folder_name):\n",
        "        os.mkdir(folder_name)\n",
        "    whole_text = \"\"\n",
        "    # process each chunk \n",
        "    for i, audio_chunk in enumerate(chunks, start=1):\n",
        "        # export audio chunk and save it in\n",
        "        # the `folder_name` directory.\n",
        "        chunk_filename = os.path.join(folder_name, f\"chunk{i}.wav\")\n",
        "        audio_chunk.export(chunk_filename, format=\"wav\")\n",
        "        # recognize the chunk\n",
        "        try:\n",
        "            text = transcribe_audio(chunk_filename)\n",
        "        except sr.UnknownValueError as e:\n",
        "            print(\"Error:\", str(e))\n",
        "        else:\n",
        "            text = f\"{text.capitalize()}. \"\n",
        "            print(chunk_filename, \":\", text)\n",
        "            whole_text += text +\"\\n\"\n",
        "    # return the text for all chunks detected\n",
        "    return whole_text"
      ]
    },
    {
      "cell_type": "code",
      "execution_count": 8,
      "metadata": {},
      "outputs": [],
      "source": [
        "from pathlib import Path"
      ]
    },
    {
      "cell_type": "markdown",
      "metadata": {},
      "source": [
        "Try speech detection for whole 1h file"
      ]
    },
    {
      "cell_type": "code",
      "execution_count": null,
      "metadata": {},
      "outputs": [],
      "source": [
        "filename = r\"C:\\Users\\joshu\\Documents\\GitHub\\subsy\\downloads\\sermon.mp4\"\n",
        "filepath = Path(filename)\n",
        "with open(f\"subs/{filepath.name}.txt\", encoding=\"utf-8\", mode=\"w\") as f:\n",
        "    \n",
        "    subs = get_large_audio_transcription_on_silence(filepath.resolve())\n",
        "    f.write(subs)"
      ]
    },
    {
      "cell_type": "markdown",
      "metadata": {},
      "source": [
        "Accurate speech detection for a 10s clip"
      ]
    },
    {
      "cell_type": "code",
      "execution_count": 45,
      "metadata": {},
      "outputs": [
        {
          "name": "stdout",
          "output_type": "stream",
          "text": [
            "非常欢迎大家来上这个课程这个课程前后一共有四本花的时间要用一年可是学校假期的时候我们也跟着假期换句话说我们注\n"
          ]
        }
      ],
      "source": [
        "print(transcribe_audio(r\"C:\\Users\\joshu\\Documents\\GitHub\\subsy\\downloads\\audio.wav\"))"
      ]
    },
    {
      "cell_type": "markdown",
      "metadata": {},
      "source": [
        "Minor errors for a 1 min clip."
      ]
    },
    {
      "cell_type": "code",
      "execution_count": 46,
      "metadata": {},
      "outputs": [
        {
          "name": "stdout",
          "output_type": "stream",
          "text": [
            "audio-chunks\\chunk1.wav : 非常欢迎大家来上这个课程这个课程前后一共有四本. \n",
            "audio-chunks\\chunk2.wav : 花的时间要用一年可是学校假期的时候我们也跟着假期. \n",
            "audio-chunks\\chunk3.wav : 换句话说我们注重你在教会的生活也看重你的家庭生活. \n",
            "audio-chunks\\chunk4.wav : 希望你跟我们建立美好的关系也希望你的家庭能够和谐建立. \n",
            "audio-chunks\\chunk5.wav : 亲密的关系. \n",
            "audio-chunks\\chunk6.wav : 今年的课程. \n",
            "audio-chunks\\chunk7.wav : 似乎很长但是当你上完了以后你会觉得. \n",
            "audio-chunks\\chunk8.wav : 并不长. \n",
            "audio-chunks\\chunk9.wav : 因为. \n",
            "audio-chunks\\chunk10.wav : 时间过得真快. \n",
            "audio-chunks\\chunk11.wav : 你学习的真多. \n",
            "audio-chunks\\chunk12.wav : 在这课程中间. \n",
            "audio-chunks\\chunk13.wav : 前后一共分成四本. \n",
            "Error: \n",
            "audio-chunks\\chunk15.wav : 是星星的起点. \n",
            "audio-chunks\\chunk16.wav : 从关系入门和大家一起分享. \n",
            "audio-chunks\\chunk17.wav : 因为人是一个关系体. \n",
            "audio-chunks\\chunk18.wav : 从关系入门如何我们中华文化. \n",
            "audio-chunks\\chunk19.wav : 我们中华文化非常强调. \n",
            "audio-chunks\\chunk20.wav : 人伦关系. \n",
            "audio-chunks\\chunk21.wav : 在儒家的传统里头谈到的五轮基本上就是关西. \n",
            "audio-chunks\\chunk22.wav : 君臣. \n",
            "audio-chunks\\chunk23.wav : 铺子. \n",
            "非常欢迎大家来上这个课程这个课程前后一共有四本. 花的时间要用一年可是学校假期的时候我们也跟着假期. 换句话说我们注重你在教会的生活也看重你的家庭生活. 希望你跟我们建立美好的关系也希望你的家庭能够和谐建立. 亲密的关系. 今年的课程. 似乎很长但是当你上完了以后你会觉得. 并不长. 因为. 时间过得真快. 你学习的真多. 在这课程中间. 前后一共分成四本. 是星星的起点. 从关系入门和大家一起分享. 因为人是一个关系体. 从关系入门如何我们中华文化. 我们中华文化非常强调. 人伦关系. 在儒家的传统里头谈到的五轮基本上就是关西. 君臣. 铺子. \n"
          ]
        }
      ],
      "source": [
        "print(get_large_audio_transcription_on_silence(r\"C:\\Users\\joshu\\Documents\\GitHub\\subsy\\downloads\\sermon - 1m.mp4\"))"
      ]
    },
    {
      "cell_type": "code",
      "execution_count": 14,
      "metadata": {},
      "outputs": [],
      "source": [
        "with open(\"subs/backup.txt\", encoding=\"utf-8\", mode=\"r\") as backup, open(\"subs/final.txt\", encoding=\"utf-8\", mode=\"w\") as final:\n",
        "    l= backup.readlines()\n",
        "    for i, line in enumerate(l):\n",
        "        if \"audio\" in line:\n",
        "            l[i] = line.split(\":\")[1].strip() +\"\\n\"\n",
        "    final.writelines(l)\n",
        "   "
      ]
    },
    {
      "cell_type": "code",
      "execution_count": 9,
      "metadata": {},
      "outputs": [],
      "source": [
        "from pytube import YouTube\n",
        "# chinese video\n",
        "link = \"https://youtu.be/UTOQdej0Mus?si=aOmOqedANCravVA2\"\n",
        "\n",
        "yt = YouTube(link)"
      ]
    },
    {
      "cell_type": "code",
      "execution_count": 13,
      "metadata": {},
      "outputs": [
        {
          "name": "stdout",
          "output_type": "stream",
          "text": [
            "{'responseContext': {'visitorData': 'CgtDdmhTZkdjUTNVOCjpxZyoBjIICgJTRxICGgA%3D', 'serviceTrackingParams': [{'service': 'GFEEDBACK', 'params': [{'key': 'is_viewed_live', 'value': 'False'}, {'key': 'is_alc_surface', 'value': 'false'}, {'key': 'ipcc', 'value': '0'}, {'key': 'logged_in', 'value': '0'}, {'key': 'e', 'value': '9406121,23946420,23966208,23983296,23998056,24004644,24007246,24034168,24036948,24077241,24078649,24080738,24120820,24135310,24140247,24181174,24187377,24211178,24219713,24241378,24255543,24255545,24265964,24285788,24288664,24290971,24362626,24367579,24368310,24368831,24371779,24372101,24372108,24374311,24377322,24377909,24379041,24379067,24379125,24379352,24379962,24379969,24382552,24383024,24384050,24385612,24389130,24390675,24428788,24428948,24445497,24451319,24457856,24458317,24458324,24458329,24458839,24466624,24467347,24468724,24469818,24485421,24501184,24502053,24502599,24502747,24503058,24506625,24506784,24515366,24515423,24517092,24518452,24519102,24520147,24523378,24524098,24525924,24526100,24526515,24526646,24526770,24526787,24526790,24526801,24526804,24526815,24526823,24528357,24528461,24528470,24528477,24528482,24528550,24528557,24528575,24528580,24528644,24528647,24528659,24528664,24529354,24529363,24531220,24537200,24542367,24542452,24543277,24546059,24546075,24547199,24547650,24547939,24548627,24548629,24549780,24550285,24552606,24552860,24556101,24559328,24560416,24561133,24561138,24561150,24561208,24563746,24567653,24569336,24569811,24580976,24582620,24632202,24691334,24694842,24698452,39324156,51002087,51003636,51004018,51006154,51006352,51006403,51006405,51006430,51006488,51007014,51007328,51009624,51009781,51009900,51010624,51010699,51011488,51011905,51012687,51013020,51014090,51014904,51015206,51016337,51016856,51017887,51018689,51018819,51018888,51018899,51019626,51020343,51020348,51020571,51021570,51022325,51022736,51023237,51024033,51024036,51024086,51024522'}]}, {'service': 'CSI', 'params': [{'key': 'c', 'value': 'ANDROID_MUSIC'}, {'key': 'cver', 'value': '5.16.51'}, {'key': 'yt_li', 'value': '0'}, {'key': 'GetPlayer_rid', 'value': '0xd1e3f90fdf525e5d'}]}, {'service': 'ECATCHER', 'params': [{'key': 'client.version', 'value': '5.16'}, {'key': 'client.name', 'value': 'ANDROID_MUSIC'}]}, {'service': 'LISTNR', 'params': [{'key': 'e', 'value': '24559328,24518452,51007328,24550285,24195012,51020571,24253780,24632202,24428948,24542367,24506784,24537200,24458839,51009781,24526100,51014904,51015206,51013020,24543277,24694842,51016856,51019626,24253784,24458329,24036948,24034168,24546075,39324156,24367579,24524098,24382552,24362626,51006403,24458324,24519102,24502747,24502053,51009900,24547650,24515366,24286257,24548627,24691334,51024033,24556101,51024522,24385612,24458317,51012687,51018899,24135310,51007014,24451319,51016337,24181174,51006154,51018689,24580976,24428788,51009624,51006352,24548629,24560416,51006488,51010624,24140247,24552606,51014090,51004018,24515423,24549780,24274141,24526515,24469818,24520147,24542452,24582620,24410415,24220751,24528357,24567653,24195115,24503058,24181216,24563746,24290971,24506625,51003636,24569336,51006405,51006430,24552860,24253767,51011905,51011488,24288664'}]}], 'maxAgeSeconds': 0}, 'playabilityStatus': {'status': 'UNPLAYABLE', 'reason': 'This video is not available', 'contextParams': 'Q0FFU0FnZ0M='}, 'videoDetails': {'videoId': 'UTOQdej0Mus', 'title': '《新心的起点》第一课：神与人的关系', 'lengthSeconds': '4383', 'channelId': 'UC4-CcS4tbiemtRqWtVhPVzQ', 'isOwnerViewing': False, 'isCrawlable': True, 'thumbnail': {'thumbnails': [{'url': 'https://i.ytimg.com/vi/UTOQdej0Mus/mqdefault.jpg', 'width': 320, 'height': 180}, {'url': 'https://i.ytimg.com/vi/UTOQdej0Mus/hqdefault.jpg?sqp=-oaymwEXCJADEOABSFryq4qpAwkIARUAAIhCGAE=&rs=AOn4CLDlZ7aaJMF3yhHCAGC_mTBI2N-sBg', 'width': 400, 'height': 224}, {'url': 'https://i.ytimg.com/vi/UTOQdej0Mus/hq720.jpg?sqp=-oaymwEXCKAGEMIDSFryq4qpAwkIARUAAIhCGAE=&rs=AOn4CLA4dNrgdSWyo8osoj9AWnMa_N1gHg', 'width': 800, 'height': 450}, {'url': 'https://i.ytimg.com/vi/UTOQdej0Mus/hq720.jpg', 'width': 1280, 'height': 720}]}, 'allowRatings': True, 'viewCount': '6724', 'author': 'SLC Media Channel', 'isPrivate': False, 'isUnpluggedCorpus': False, 'isLiveContent': False}, 'trackingParams': 'CAAQu2kiEwi568yjgrKBAxXwAbcAHZ-QDbE=', 'adBreakHeartbeatParams': 'Q0FBJTNE'}\n"
          ]
        }
      ],
      "source": [
        "print(yt.vid_info)"
      ]
    },
    {
      "cell_type": "code",
      "execution_count": 15,
      "metadata": {},
      "outputs": [
        {
          "data": {
            "text/plain": [
              "'《新心的起点》第一课：神与人的关系'"
            ]
          },
          "execution_count": 15,
          "metadata": {},
          "output_type": "execute_result"
        }
      ],
      "source": [
        "yt.title"
      ]
    },
    {
      "cell_type": "code",
      "execution_count": 16,
      "metadata": {},
      "outputs": [
        {
          "name": "stdout",
          "output_type": "stream",
          "text": [
            "[None, None, None, None, None, None, None, None, None, None]\n"
          ]
        }
      ],
      "source": [
        "l = [None]*10\n",
        "print(l)"
      ]
    },
    {
      "cell_type": "code",
      "execution_count": 18,
      "metadata": {},
      "outputs": [],
      "source": [
        "from collections import OrderedDict\n",
        "x = OrderedDict(zip([i for i in range(1,11)], l))"
      ]
    },
    {
      "cell_type": "code",
      "execution_count": 19,
      "metadata": {},
      "outputs": [
        {
          "data": {
            "text/plain": [
              "OrderedDict([(1, None),\n",
              "             (2, None),\n",
              "             (3, None),\n",
              "             (4, None),\n",
              "             (5, 5),\n",
              "             (6, None),\n",
              "             (7, None),\n",
              "             (8, None),\n",
              "             (9, None),\n",
              "             (10, None)])"
            ]
          },
          "execution_count": 19,
          "metadata": {},
          "output_type": "execute_result"
        }
      ],
      "source": [
        "x[5] = 5\n",
        "x"
      ]
    },
    {
      "cell_type": "code",
      "execution_count": null,
      "metadata": {},
      "outputs": [],
      "source": []
    }
  ],
  "metadata": {
    "kernelspec": {
      "display_name": "v",
      "language": "python",
      "name": "python3"
    },
    "language_info": {
      "codemirror_mode": {
        "name": "ipython",
        "version": 3
      },
      "file_extension": ".py",
      "mimetype": "text/x-python",
      "name": "python",
      "nbconvert_exporter": "python",
      "pygments_lexer": "ipython3",
      "version": "3.10.12"
    },
    "orig_nbformat": 4
  },
  "nbformat": 4,
  "nbformat_minor": 2
}
