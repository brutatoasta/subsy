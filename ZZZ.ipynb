{
  "cells": [
    {
      "cell_type": "markdown",
      "metadata": {},
      "source": [
        "# Download video\n",
        "Download audio stream of the [video](https://youtu.be/UTOQdej0Mus?si=aOmOqedANCravVA2)"
      ]
    },
    {
      "cell_type": "code",
      "execution_count": null,
      "metadata": {},
      "outputs": [],
      "source": [
        "from pytube import YouTube\n",
        "# chinese video\n",
        "link = \"https://youtu.be/UTOQdej0Mus?si=aOmOqedANCravVA2\"\n",
        "\n",
        "yt = YouTube(link)\n",
        "for i in yt.streams.filter(only_audio=True):\n",
        "    print(i)\n"
      ]
    },
    {
      "cell_type": "code",
      "execution_count": null,
      "metadata": {},
      "outputs": [],
      "source": [
        "stream = yt.streams.get_by_itag(139)\n",
        "filename = stream.download(\"./downloads/\", filename=\"sermon.mp4\")"
      ]
    },
    {
      "cell_type": "markdown",
      "metadata": {},
      "source": [
        "## Speech Detection\n",
        "We use Google's Speech to Text API using a generic key and \"zh-sg\" language"
      ]
    },
    {
      "cell_type": "code",
      "execution_count": 7,
      "metadata": {},
      "outputs": [],
      "source": [
        "# importing libraries \n",
        "import speech_recognition as sr \n",
        "import os \n",
        "from pydub import AudioSegment\n",
        "from pydub.silence import split_on_silence\n",
        "\n",
        "# create a speech recognition object\n",
        "r = sr.Recognizer()\n",
        "\n",
        "# a function to recognize speech in the audio file\n",
        "# so that we don't repeat ourselves in in other functions\n",
        "def transcribe_audio(path):\n",
        "    # use the audio file as the audio source\n",
        "    with sr.AudioFile(path) as source:\n",
        "        audio_listened = r.record(source)\n",
        "        # try converting it to text\n",
        "        text = r.recognize_google(audio_listened, language=\"zh-sg\")\n",
        "    return text\n",
        "\n",
        "# a function that splits the audio file into chunks on silence\n",
        "# and applies speech recognition\n",
        "def get_large_audio_transcription_on_silence(path):\n",
        "    \"\"\"Splitting the large audio file into wav chunks\n",
        "    and apply speech recognition on each of these chunks\"\"\"\n",
        "    # open the audio file using pydub\n",
        "    sound = AudioSegment.from_file(path)  \n",
        "    # split audio sound where silence is 500 miliseconds or more and get chunks\n",
        "    chunks = split_on_silence(sound,\n",
        "        # experiment with this value for your target audio file\n",
        "        min_silence_len = 500,\n",
        "        # adjust this per requirement\n",
        "        silence_thresh = sound.dBFS-14,\n",
        "        # keep the silence for 1 second, adjustable as well\n",
        "        keep_silence=500,\n",
        "    )\n",
        "    folder_name = \"audio-chunks\"\n",
        "    # create a directory to store the audio chunks\n",
        "    if not os.path.isdir(folder_name):\n",
        "        os.mkdir(folder_name)\n",
        "    whole_text = \"\"\n",
        "    # process each chunk \n",
        "    for i, audio_chunk in enumerate(chunks, start=1):\n",
        "        # export audio chunk and save it in\n",
        "        # the `folder_name` directory.\n",
        "        chunk_filename = os.path.join(folder_name, f\"chunk{i}.wav\")\n",
        "        audio_chunk.export(chunk_filename, format=\"wav\")\n",
        "        # recognize the chunk\n",
        "        try:\n",
        "            text = transcribe_audio(chunk_filename)\n",
        "        except sr.UnknownValueError as e:\n",
        "            print(\"Error:\", str(e))\n",
        "        else:\n",
        "            text = f\"{text.capitalize()}. \"\n",
        "            print(chunk_filename, \":\", text)\n",
        "            whole_text += text +\"\\n\"\n",
        "    # return the text for all chunks detected\n",
        "    return whole_text"
      ]
    },
    {
      "cell_type": "code",
      "execution_count": 8,
      "metadata": {},
      "outputs": [],
      "source": [
        "from pathlib import Path"
      ]
    },
    {
      "cell_type": "markdown",
      "metadata": {},
      "source": [
        "Try speech detection for whole 1h file"
      ]
    },
    {
      "cell_type": "code",
      "execution_count": null,
      "metadata": {},
      "outputs": [],
      "source": [
        "filename = r\"C:\\Users\\joshu\\Documents\\GitHub\\subsy\\downloads\\sermon.mp4\"\n",
        "filepath = Path(filename)\n",
        "with open(f\"subs/{filepath.name}.txt\", encoding=\"utf-8\", mode=\"w\") as f:\n",
        "    \n",
        "    subs = get_large_audio_transcription_on_silence(filepath.resolve())\n",
        "    f.write(subs)"
      ]
    },
    {
      "cell_type": "markdown",
      "metadata": {},
      "source": [
        "Accurate speech detection for a 10s clip"
      ]
    },
    {
      "cell_type": "code",
      "execution_count": 45,
      "metadata": {},
      "outputs": [
        {
          "name": "stdout",
          "output_type": "stream",
          "text": [
            "非常欢迎大家来上这个课程这个课程前后一共有四本花的时间要用一年可是学校假期的时候我们也跟着假期换句话说我们注\n"
          ]
        }
      ],
      "source": [
        "print(transcribe_audio(r\"C:\\Users\\joshu\\Documents\\GitHub\\subsy\\downloads\\audio.wav\"))"
      ]
    },
    {
      "cell_type": "markdown",
      "metadata": {},
      "source": [
        "Minor errors for a 1 min clip."
      ]
    },
    {
      "cell_type": "code",
      "execution_count": 46,
      "metadata": {},
      "outputs": [
        {
          "name": "stdout",
          "output_type": "stream",
          "text": [
            "audio-chunks\\chunk1.wav : 非常欢迎大家来上这个课程这个课程前后一共有四本. \n",
            "audio-chunks\\chunk2.wav : 花的时间要用一年可是学校假期的时候我们也跟着假期. \n",
            "audio-chunks\\chunk3.wav : 换句话说我们注重你在教会的生活也看重你的家庭生活. \n",
            "audio-chunks\\chunk4.wav : 希望你跟我们建立美好的关系也希望你的家庭能够和谐建立. \n",
            "audio-chunks\\chunk5.wav : 亲密的关系. \n",
            "audio-chunks\\chunk6.wav : 今年的课程. \n",
            "audio-chunks\\chunk7.wav : 似乎很长但是当你上完了以后你会觉得. \n",
            "audio-chunks\\chunk8.wav : 并不长. \n",
            "audio-chunks\\chunk9.wav : 因为. \n",
            "audio-chunks\\chunk10.wav : 时间过得真快. \n",
            "audio-chunks\\chunk11.wav : 你学习的真多. \n",
            "audio-chunks\\chunk12.wav : 在这课程中间. \n",
            "audio-chunks\\chunk13.wav : 前后一共分成四本. \n",
            "Error: \n",
            "audio-chunks\\chunk15.wav : 是星星的起点. \n",
            "audio-chunks\\chunk16.wav : 从关系入门和大家一起分享. \n",
            "audio-chunks\\chunk17.wav : 因为人是一个关系体. \n",
            "audio-chunks\\chunk18.wav : 从关系入门如何我们中华文化. \n",
            "audio-chunks\\chunk19.wav : 我们中华文化非常强调. \n",
            "audio-chunks\\chunk20.wav : 人伦关系. \n",
            "audio-chunks\\chunk21.wav : 在儒家的传统里头谈到的五轮基本上就是关西. \n",
            "audio-chunks\\chunk22.wav : 君臣. \n",
            "audio-chunks\\chunk23.wav : 铺子. \n",
            "非常欢迎大家来上这个课程这个课程前后一共有四本. 花的时间要用一年可是学校假期的时候我们也跟着假期. 换句话说我们注重你在教会的生活也看重你的家庭生活. 希望你跟我们建立美好的关系也希望你的家庭能够和谐建立. 亲密的关系. 今年的课程. 似乎很长但是当你上完了以后你会觉得. 并不长. 因为. 时间过得真快. 你学习的真多. 在这课程中间. 前后一共分成四本. 是星星的起点. 从关系入门和大家一起分享. 因为人是一个关系体. 从关系入门如何我们中华文化. 我们中华文化非常强调. 人伦关系. 在儒家的传统里头谈到的五轮基本上就是关西. 君臣. 铺子. \n"
          ]
        }
      ],
      "source": [
        "print(get_large_audio_transcription_on_silence(r\"C:\\Users\\joshu\\Documents\\GitHub\\subsy\\downloads\\sermon - 1m.mp4\"))"
      ]
    },
    {
      "cell_type": "code",
      "execution_count": 14,
      "metadata": {},
      "outputs": [],
      "source": [
        "with open(\"subs/backup.txt\", encoding=\"utf-8\", mode=\"r\") as backup, open(\"subs/final.txt\", encoding=\"utf-8\", mode=\"w\") as final:\n",
        "    l= backup.readlines()\n",
        "    for i, line in enumerate(l):\n",
        "        if \"audio\" in line:\n",
        "            l[i] = line.split(\":\")[1].strip() +\"\\n\"\n",
        "    final.writelines(l)\n",
        "   "
      ]
    },
    {
      "cell_type": "code",
      "execution_count": null,
      "metadata": {},
      "outputs": [],
      "source": []
    }
  ],
  "metadata": {
    "kernelspec": {
      "display_name": "v",
      "language": "python",
      "name": "python3"
    },
    "language_info": {
      "codemirror_mode": {
        "name": "ipython",
        "version": 3
      },
      "file_extension": ".py",
      "mimetype": "text/x-python",
      "name": "python",
      "nbconvert_exporter": "python",
      "pygments_lexer": "ipython3",
      "version": "3.11.3"
    },
    "orig_nbformat": 4
  },
  "nbformat": 4,
  "nbformat_minor": 2
}
