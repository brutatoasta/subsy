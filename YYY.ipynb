{
 "cells": [
  {
   "cell_type": "markdown",
   "metadata": {},
   "source": [
    "# Redis queue\n",
    "how to create a worker queue "
   ]
  },
  {
   "cell_type": "code",
   "execution_count": 1,
   "metadata": {},
   "outputs": [],
   "source": [
    "import requests\n",
    "\n",
    "def count_words_at_url(url):\n",
    "    resp = requests.get(url)\n",
    "    return len(resp.text.split())"
   ]
  },
  {
   "cell_type": "code",
   "execution_count": 2,
   "metadata": {},
   "outputs": [],
   "source": [
    "from redis import Redis\n",
    "from rq import Queue\n",
    "\n",
    "q = Queue(connection=Redis())"
   ]
  },
  {
   "cell_type": "code",
   "execution_count": 3,
   "metadata": {},
   "outputs": [
    {
     "ename": "ValueError",
     "evalue": "Functions from the __main__ module cannot be processed by workers",
     "output_type": "error",
     "traceback": [
      "\u001b[1;31m---------------------------------------------------------------------------\u001b[0m",
      "\u001b[1;31mValueError\u001b[0m                                Traceback (most recent call last)",
      "\u001b[1;32mc:\\Users\\joshu\\Documents\\GitHub\\subsy\\YYY.ipynb Cell 4\u001b[0m line \u001b[0;36m1\n\u001b[1;32m----> <a href='vscode-notebook-cell:/c%3A/Users/joshu/Documents/GitHub/subsy/YYY.ipynb#W3sZmlsZQ%3D%3D?line=0'>1</a>\u001b[0m result \u001b[39m=\u001b[39m q\u001b[39m.\u001b[39;49menqueue(count_words_at_url, \u001b[39m'\u001b[39;49m\u001b[39mhttp://nvie.com\u001b[39;49m\u001b[39m'\u001b[39;49m)\n",
      "File \u001b[1;32mc:\\Users\\joshu\\Documents\\GitHub\\subsy\\v\\Lib\\site-packages\\rq\\queue.py:970\u001b[0m, in \u001b[0;36mQueue.enqueue\u001b[1;34m(self, f, *args, **kwargs)\u001b[0m\n\u001b[0;32m    940\u001b[0m \u001b[39mdef\u001b[39;00m \u001b[39menqueue\u001b[39m(\u001b[39mself\u001b[39m, f: \u001b[39m'\u001b[39m\u001b[39mFunctionReferenceType\u001b[39m\u001b[39m'\u001b[39m, \u001b[39m*\u001b[39margs, \u001b[39m*\u001b[39m\u001b[39m*\u001b[39mkwargs) \u001b[39m-\u001b[39m\u001b[39m>\u001b[39m \u001b[39m'\u001b[39m\u001b[39mJob\u001b[39m\u001b[39m'\u001b[39m:\n\u001b[0;32m    941\u001b[0m \u001b[39m    \u001b[39m\u001b[39m\"\"\"Creates a job to represent the delayed function call and enqueues it.\u001b[39;00m\n\u001b[0;32m    942\u001b[0m \u001b[39m    Receives the same parameters accepted by the `enqueue_call` method.\u001b[39;00m\n\u001b[0;32m    943\u001b[0m \n\u001b[1;32m   (...)\u001b[0m\n\u001b[0;32m    950\u001b[0m \u001b[39m        job (Job): The created Job\u001b[39;00m\n\u001b[0;32m    951\u001b[0m \u001b[39m    \"\"\"\u001b[39;00m\n\u001b[0;32m    952\u001b[0m     (\n\u001b[0;32m    953\u001b[0m         f,\n\u001b[0;32m    954\u001b[0m         timeout,\n\u001b[0;32m    955\u001b[0m         description,\n\u001b[0;32m    956\u001b[0m         result_ttl,\n\u001b[0;32m    957\u001b[0m         ttl,\n\u001b[0;32m    958\u001b[0m         failure_ttl,\n\u001b[0;32m    959\u001b[0m         depends_on,\n\u001b[0;32m    960\u001b[0m         job_id,\n\u001b[0;32m    961\u001b[0m         at_front,\n\u001b[0;32m    962\u001b[0m         meta,\n\u001b[0;32m    963\u001b[0m         retry,\n\u001b[0;32m    964\u001b[0m         on_success,\n\u001b[0;32m    965\u001b[0m         on_failure,\n\u001b[0;32m    966\u001b[0m         on_stopped,\n\u001b[0;32m    967\u001b[0m         pipeline,\n\u001b[0;32m    968\u001b[0m         args,\n\u001b[0;32m    969\u001b[0m         kwargs,\n\u001b[1;32m--> 970\u001b[0m     ) \u001b[39m=\u001b[39m Queue\u001b[39m.\u001b[39;49mparse_args(f, \u001b[39m*\u001b[39;49margs, \u001b[39m*\u001b[39;49m\u001b[39m*\u001b[39;49mkwargs)\n\u001b[0;32m    972\u001b[0m     \u001b[39mreturn\u001b[39;00m \u001b[39mself\u001b[39m\u001b[39m.\u001b[39menqueue_call(\n\u001b[0;32m    973\u001b[0m         func\u001b[39m=\u001b[39mf,\n\u001b[0;32m    974\u001b[0m         args\u001b[39m=\u001b[39margs,\n\u001b[1;32m   (...)\u001b[0m\n\u001b[0;32m    989\u001b[0m         pipeline\u001b[39m=\u001b[39mpipeline,\n\u001b[0;32m    990\u001b[0m     )\n",
      "File \u001b[1;32mc:\\Users\\joshu\\Documents\\GitHub\\subsy\\v\\Lib\\site-packages\\rq\\queue.py:896\u001b[0m, in \u001b[0;36mQueue.parse_args\u001b[1;34m(cls, f, *args, **kwargs)\u001b[0m\n\u001b[0;32m    880\u001b[0m \u001b[39m\u001b[39m\u001b[39m\"\"\"\u001b[39;00m\n\u001b[0;32m    881\u001b[0m \u001b[39mParses arguments passed to `queue.enqueue()` and `queue.enqueue_at()`\u001b[39;00m\n\u001b[0;32m    882\u001b[0m \n\u001b[1;32m   (...)\u001b[0m\n\u001b[0;32m    893\u001b[0m \u001b[39m    kwargs (*kwargs): function kargs\u001b[39;00m\n\u001b[0;32m    894\u001b[0m \u001b[39m\"\"\"\u001b[39;00m\n\u001b[0;32m    895\u001b[0m \u001b[39mif\u001b[39;00m \u001b[39mnot\u001b[39;00m \u001b[39misinstance\u001b[39m(f, \u001b[39mstr\u001b[39m) \u001b[39mand\u001b[39;00m f\u001b[39m.\u001b[39m\u001b[39m__module__\u001b[39m \u001b[39m==\u001b[39m \u001b[39m'\u001b[39m\u001b[39m__main__\u001b[39m\u001b[39m'\u001b[39m:\n\u001b[1;32m--> 896\u001b[0m     \u001b[39mraise\u001b[39;00m \u001b[39mValueError\u001b[39;00m(\u001b[39m'\u001b[39m\u001b[39mFunctions from the __main__ module cannot be processed by workers\u001b[39m\u001b[39m'\u001b[39m)\n\u001b[0;32m    898\u001b[0m \u001b[39m# Detect explicit invocations, i.e. of the form:\u001b[39;00m\n\u001b[0;32m    899\u001b[0m \u001b[39m#     q.enqueue(foo, args=(1, 2), kwargs={'a': 1}, job_timeout=30)\u001b[39;00m\n\u001b[0;32m    900\u001b[0m timeout \u001b[39m=\u001b[39m kwargs\u001b[39m.\u001b[39mpop(\u001b[39m'\u001b[39m\u001b[39mjob_timeout\u001b[39m\u001b[39m'\u001b[39m, \u001b[39mNone\u001b[39;00m)\n",
      "\u001b[1;31mValueError\u001b[0m: Functions from the __main__ module cannot be processed by workers"
     ]
    }
   ],
   "source": [
    "\n",
    "result = q.enqueue(count_words_at_url, 'http://nvie.com')"
   ]
  },
  {
   "cell_type": "code",
   "execution_count": null,
   "metadata": {},
   "outputs": [],
   "source": []
  }
 ],
 "metadata": {
  "kernelspec": {
   "display_name": "v",
   "language": "python",
   "name": "python3"
  },
  "language_info": {
   "codemirror_mode": {
    "name": "ipython",
    "version": 3
   },
   "file_extension": ".py",
   "mimetype": "text/x-python",
   "name": "python",
   "nbconvert_exporter": "python",
   "pygments_lexer": "ipython3",
   "version": "3.11.3"
  },
  "orig_nbformat": 4
 },
 "nbformat": 4,
 "nbformat_minor": 2
}
